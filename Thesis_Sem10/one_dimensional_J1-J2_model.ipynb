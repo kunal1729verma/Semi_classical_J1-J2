{
 "cells": [
  {
   "cell_type": "code",
   "execution_count": 45,
   "id": "56fc3d12",
   "metadata": {},
   "outputs": [],
   "source": [
    "import numpy as np\n",
    "import matplotlib.pyplot as plt"
   ]
  },
  {
   "cell_type": "code",
   "execution_count": 46,
   "id": "558cfec7",
   "metadata": {},
   "outputs": [],
   "source": [
    "# UNIFORM RANDOM DISTRIBUTION OF POINTS ON UNIT SPHERE.\n",
    "def random_spin():\n",
    "    x = np.random.normal(0, 1, 3)\n",
    "    x = x/np.sqrt(x@x)\n",
    "    \n",
    "    return x\n",
    "\n",
    "# RETURN THE VALUE OF SPIN MAGNITUDE.\n",
    "def spin(j):\n",
    "    s = spin_config[j]\n",
    "    if (len(s) == 3):\n",
    "        spin_val = 1\n",
    "    elif (len(s) == 1):\n",
    "        spin_val = 0\n",
    "        \n",
    "    return spin_val\n",
    "\n",
    "# INITIALIZE ENERGY OF THE SYSTEM.\n",
    "def initialize_energy():\n",
    "    Energy = 0\n",
    "    for i in range(n):\n",
    "        Energy += J1*(spin_config[i]@spin_config[(i+1)%n])\n",
    "        Energy += J2*(spin_config[i]@spin_config[(i+2)%n])\n",
    "        \n",
    "    return Energy"
   ]
  },
  {
   "cell_type": "code",
   "execution_count": 78,
   "id": "4628bafe",
   "metadata": {},
   "outputs": [],
   "source": [
    "# DEFINE THE LATTICE.\n",
    "n = 50\n",
    "beta = 100\n",
    "J1 = 4\n",
    "J2 = -2.5\n",
    "\n",
    "global spin_config\n",
    "spin_config = np.zeros((n), dtype=np.ndarray)\n",
    "\n",
    "for i in range(n):\n",
    "        spin_config[i] = random_spin()    \n",
    "    \n",
    "global E \n",
    "E = initialize_energy()\n",
    "\n",
    "# print(spin_config, E)"
   ]
  },
  {
   "cell_type": "code",
   "execution_count": 69,
   "id": "9f290d01",
   "metadata": {},
   "outputs": [],
   "source": [
    "def dot(v1, v2):\n",
    "    if (len(v1) == 3 and len(v2) == 3):\n",
    "        dot_prod = v1@v2\n",
    "    else:\n",
    "        dot_prod = 0\n",
    "        \n",
    "    return dot_prod\n",
    "\n",
    "def dist(ix, jx):\n",
    "    r = abs(ix - jx)\n",
    "    if (r >= n/2):\n",
    "        distance = n - r\n",
    "    else:\n",
    "        distance = r\n",
    "    \n",
    "    return distance"
   ]
  },
  {
   "cell_type": "code",
   "execution_count": 70,
   "id": "bc6bd54c",
   "metadata": {},
   "outputs": [],
   "source": [
    "def make_dimer(ix):\n",
    "    global E\n",
    "    global spin_config\n",
    "\n",
    "    # jx is the selected neighbour. ix is the original site.\n",
    "\n",
    "    unpaired_list = []\n",
    "    for nbr in [(ix-2), (ix-1), (ix+1), (ix+2)]:\n",
    "        if (spin((nbr)%n) == 1):\n",
    "            unpaired_list.append(nbr)\n",
    "    \n",
    "    if(len(unpaired_list)==0):\n",
    "        return\n",
    "    \n",
    "    else:\n",
    "        jx = np.random.choice(unpaired_list)\n",
    "\n",
    "\n",
    "\n",
    "        if (dist(ix, jx) == 1):\n",
    "            J = J1\n",
    "        elif(dist(ix, jx) == 2):\n",
    "            J = J2\n",
    "\n",
    "        jx = jx%n\n",
    "\n",
    "        # Calculate the change in energy if dimer is formed.\n",
    "        E_1 = -(3*J/4)\n",
    "        E_2 = - (J1/4)*(dot(spin_config[ix], spin_config[(ix - 1)%n]) + dot(spin_config[ix], spin_config[(ix + 1)%n]) + dot(spin_config[jx], spin_config[(jx - 1)%n]) + dot(spin_config[jx], spin_config[(jx + 1)%n]))\n",
    "        E_3 = - (J2/4)*(dot(spin_config[ix], spin_config[(ix - 2)%n]) + dot(spin_config[ix], spin_config[(ix + 2)%n]) + dot(spin_config[jx], spin_config[(jx - 2)%n]) + dot(spin_config[jx], spin_config[(jx + 2)%n]))\n",
    "        E_4 = (J/4)*(dot(spin_config[ix], spin_config[jx]))\n",
    "\n",
    "        dE = E_1 + E_2 + E_3 + E_4\n",
    "\n",
    "        # Metropolis implementation.\n",
    "\n",
    "        p_accept = min(1, np.exp(-beta*dE))\n",
    "        if (np.random.random() <= p_accept):\n",
    "            spin_config[ix] = [jx]\n",
    "            spin_config[jx] = [ix]\n",
    "            E += dE"
   ]
  },
  {
   "cell_type": "code",
   "execution_count": 71,
   "id": "66067a03",
   "metadata": {},
   "outputs": [],
   "source": [
    "def spin_rotation(ix):\n",
    "    global E\n",
    "    global spin_config\n",
    "\n",
    "    spin_new = random_spin()\n",
    "    dS = spin_new - spin_config[ix]\n",
    "    \n",
    "    # Calculating change in E.\n",
    "    dE = J1*(dot(dS, spin_config[(ix - 1)%n]) + dot(dS, spin_config[(ix + 1)%n])) + J2*(dot(dS, spin_config[(ix - 2)%n]) + dot(dS, spin_config[(ix + 2)%n]))\n",
    "    \n",
    "    # Metropolis implementation.\n",
    "    \n",
    "    p_accept = min(1, np.exp(-beta*dE))\n",
    "    if (np.random.random() <= p_accept):\n",
    "        spin_config[ix] = spin_new\n",
    "        E += dE"
   ]
  },
  {
   "cell_type": "code",
   "execution_count": 72,
   "id": "6869e31a",
   "metadata": {},
   "outputs": [],
   "source": [
    "def break_dimer(ix):\n",
    "    global E\n",
    "    global spin_config\n",
    "\n",
    "    jx = spin_config[ix][0]\n",
    "    \n",
    "    if (dist(ix, jx) == 1):\n",
    "        J = J1\n",
    "    elif(dist(ix, jx) == 2):\n",
    "        J = J2\n",
    "     \n",
    "    spin_config_new = np.copy(spin_config)\n",
    "\n",
    "    # Modifying a copy of the spin configutation.\n",
    "    \n",
    "    spin_config_new[ix] = random_spin()\n",
    "    spin_config_new[jx] = random_spin()\n",
    "    \n",
    "    E_1 = +(3*J)/4\n",
    "    E_2 = + (J1/4)*(dot(spin_config_new[ix], spin_config_new[(ix - 1)%n]) + dot(spin_config_new[ix], spin_config_new[(ix + 1)%n]) + dot(spin_config_new[jx], spin_config_new[(jx - 1)%n]) + dot(spin_config_new[jx], spin_config_new[(jx + 1)%n]))\n",
    "    E_3 = + (J2/4)*(dot(spin_config_new[ix], spin_config_new[(ix - 2)%n]) + dot(spin_config_new[ix], spin_config_new[(ix + 2)%n]) + dot(spin_config_new[jx], spin_config_new[(jx - 2)%n]) + dot(spin_config_new[jx], spin_config_new[(jx + 2)%n]))\n",
    "    E_4 = -(J/4)*(dot(spin_config_new[ix], spin_config_new[jx]))\n",
    "    \n",
    "    dE = E_1 + E_2 + E_3 + E_4\n",
    "    \n",
    "    # Metropolis implementation.\n",
    "    \n",
    "    p_accept = min(1, np.exp(-beta*dE))\n",
    "    if (np.random.random() <= p_accept):\n",
    "        spin_config[ix] = spin_config_new[ix]\n",
    "        spin_config[jx] = spin_config_new[jx]\n",
    "        E += dE"
   ]
  },
  {
   "cell_type": "code",
   "execution_count": null,
   "id": "c6f7232b",
   "metadata": {},
   "outputs": [],
   "source": []
  },
  {
   "cell_type": "code",
   "execution_count": 73,
   "id": "9d44b801",
   "metadata": {},
   "outputs": [],
   "source": [
    "# MONTE CARLO SWEEP (RANDOM)\n",
    "\n",
    "def monte_carlo_sweep(ix):\n",
    "    \n",
    "    # f tunes the ratio of random spin rotations to dimer formation. Increase f to increase dimer formation.\n",
    "    f = 0.5\n",
    "    \n",
    "    # If the chosen site has a free spin.\n",
    "    if (spin(ix) == 1):\n",
    "        if (f <= np.random.random()):\n",
    "            spin_rotation(ix)\n",
    "        else:\n",
    "            make_dimer(ix)\n",
    "            \n",
    "    # If the chosen site is part of a dimer.        \n",
    "    elif (spin(ix) == 0):\n",
    "        break_dimer(ix)\n",
    "        \n",
    "    "
   ]
  },
  {
   "cell_type": "code",
   "execution_count": 79,
   "id": "684c829a",
   "metadata": {},
   "outputs": [
    {
     "data": {
      "text/plain": [
       "array([array([-0.21938297, -0.75820676,  0.61399807]),\n",
       "       array([ 0.07689659, -0.82110157, -0.56557858]),\n",
       "       array([ 0.68235064, -0.54712066,  0.48482634]),\n",
       "       array([-0.53969361, -0.68969588, -0.48275294]),\n",
       "       array([-0.16986717, -0.71365433, -0.67959005]),\n",
       "       array([-0.62561245,  0.21260788, -0.75060439]),\n",
       "       array([ 0.69871024,  0.64736101, -0.30451227]),\n",
       "       array([0.84627545, 0.525605  , 0.08693243]),\n",
       "       array([ 0.23886087, -0.71500352, -0.65705057]),\n",
       "       array([-0.33814786, -0.34030081, -0.87741175]),\n",
       "       array([ 0.64594732,  0.26696786, -0.71517846]),\n",
       "       array([ 0.66196985, -0.16232033,  0.73174314]),\n",
       "       array([-0.79562854, -0.57918382,  0.17754245]),\n",
       "       array([-0.89768199,  0.38320802, -0.21752854]),\n",
       "       array([0.1270009 , 0.33972653, 0.93191022]),\n",
       "       array([ 0.54493764, -0.71760222,  0.43369348]),\n",
       "       array([ 0.89045014,  0.18548414, -0.4155649 ]),\n",
       "       array([ 0.02497953, -0.19985327,  0.97950737]),\n",
       "       array([ 0.5292722 , -0.77836537, -0.33766596]),\n",
       "       array([ 0.52984642,  0.84515623, -0.07052457]),\n",
       "       array([0.37954204, 0.79583113, 0.47180574]),\n",
       "       array([-0.10789329,  0.80330931,  0.58570742]),\n",
       "       array([ 0.03381939, -0.9993342 , -0.01368986]),\n",
       "       array([ 0.41519825, -0.62817973, -0.65802784]),\n",
       "       array([-0.67855185,  0.7045069 ,  0.20793611]),\n",
       "       array([ 0.25874614, -0.9576523 ,  0.12630326]),\n",
       "       array([-0.59851767,  0.14191681,  0.7884391 ]),\n",
       "       array([-0.38646298, -0.09664292, -0.91722762]),\n",
       "       array([-0.18125926,  0.83867878,  0.51357861]),\n",
       "       array([0.31400855, 0.17112561, 0.93387079]),\n",
       "       array([ 0.64963118,  0.69471992, -0.30877754]),\n",
       "       array([-0.81780276, -0.36916717,  0.44149093]),\n",
       "       array([ 0.17564664, -0.96940033, -0.17149712]),\n",
       "       array([-0.45760147, -0.8020821 ,  0.38375148]),\n",
       "       array([-0.39554333, -0.89321295, -0.21381323]),\n",
       "       array([ 0.0667369 , -0.34507279, -0.93620028]),\n",
       "       array([0.48876781, 0.00994679, 0.8723572 ]),\n",
       "       array([-0.83697057, -0.37836542, -0.39537309]),\n",
       "       array([-0.95575379,  0.23505884,  0.17686725]),\n",
       "       array([-0.82548523,  0.41121186, -0.38662507]),\n",
       "       array([-0.59782808, -0.42015128,  0.68269649]),\n",
       "       array([-0.31232657,  0.1982483 ,  0.92905851]),\n",
       "       array([ 0.2938037 , -0.92271926, -0.24953669]),\n",
       "       array([ 0.31275853,  0.68529855, -0.65768382]),\n",
       "       array([-0.53551768,  0.80781862, -0.24627198]),\n",
       "       array([0.07609555, 0.24948338, 0.96538464]),\n",
       "       array([-0.65167213, -0.5600503 , -0.51153406]),\n",
       "       array([-0.64036609, -0.40158092, -0.65472439]),\n",
       "       array([ 0.94938335, -0.17865187, -0.25836944]),\n",
       "       array([ 0.86273366, -0.423811  ,  0.27581673])], dtype=object)"
      ]
     },
     "execution_count": 79,
     "metadata": {},
     "output_type": "execute_result"
    }
   ],
   "source": [
    "spin_config"
   ]
  },
  {
   "cell_type": "code",
   "execution_count": 80,
   "id": "9ac073b1",
   "metadata": {},
   "outputs": [
    {
     "name": "stderr",
     "output_type": "stream",
     "text": [
      "C:\\Users\\frmnv\\AppData\\Local\\Temp/ipykernel_32244/1886784959.py:13: RuntimeWarning: overflow encountered in exp\n",
      "  p_accept = min(1, np.exp(-beta*dE))\n"
     ]
    },
    {
     "name": "stdout",
     "output_type": "stream",
     "text": [
      "[list([49]) array([-0.0969198 , -0.75777999, -0.64527207]) list([3])\n",
      " list([2]) list([5]) list([4]) list([7]) list([6]) list([9]) list([8])\n",
      " list([11]) list([10]) list([13]) list([12]) list([15]) list([14])\n",
      " list([17]) list([16]) list([19]) list([18]) list([21]) list([20])\n",
      " list([23]) list([22]) list([25]) list([24]) list([27]) list([26])\n",
      " list([29]) list([28]) list([31]) list([30]) list([33]) list([32])\n",
      " list([35]) list([34]) list([37]) list([36]) list([39]) list([38])\n",
      " array([-0.18309543, -0.41601559,  0.89073402]) list([42]) list([41])\n",
      " list([44]) list([43]) list([46]) list([45]) list([48]) list([47])\n",
      " list([0])]\n",
      "48\n"
     ]
    }
   ],
   "source": [
    "nsweeps = 100000\n",
    "\n",
    "for i in range(nsweeps):\n",
    "    ix = int(np.random.random()*n)\n",
    "    monte_carlo_sweep(ix)\n",
    "\n",
    "count_dimer = 0\n",
    "for i in range(n):\n",
    "    if (len(spin_config[i]) == 1):\n",
    "        count_dimer +=1\n",
    "        \n",
    "print(spin_config)\n",
    "print(count_dimer)"
   ]
  },
  {
   "cell_type": "code",
   "execution_count": 81,
   "id": "3ae000ff",
   "metadata": {},
   "outputs": [
    {
     "data": {
      "text/plain": [
       "-1.8442566734191461"
      ]
     },
     "execution_count": 81,
     "metadata": {},
     "output_type": "execute_result"
    }
   ],
   "source": [
    "E/n"
   ]
  },
  {
   "cell_type": "code",
   "execution_count": 82,
   "id": "74004ece",
   "metadata": {},
   "outputs": [
    {
     "data": {
      "image/png": "[encoded data removed]",
      "text/plain": [
       "<Figure size 432x288 with 1 Axes>"
      ]
     },
     "metadata": {
      "needs_background": "light"
     },
     "output_type": "display_data"
    }
   ],
   "source": [
    "spin_state = np.zeros((n))\n",
    "\n",
    "for i in range(n):\n",
    "    if (len(spin_config[i]) == 3):\n",
    "        spin_state[i] = 1\n",
    "\n",
    "spin_state\n",
    "plt.imshow(np.array([np.array(spin_state)]) , cmap = 'plasma' , interpolation = 'nearest' )\n",
    "plt.show()"
   ]
  },
  {
   "cell_type": "code",
   "execution_count": 57,
   "id": "622fdf9f",
   "metadata": {},
   "outputs": [],
   "source": [
    "# Blue = Dimer\n",
    "# Yellow = Free Spins"
   ]
  }
 ],
 "metadata": {
  "kernelspec": {
   "display_name": "Python 3 (ipykernel)",
   "language": "python",
   "name": "python3"
  },
  "language_info": {
   "codemirror_mode": {
    "name": "ipython",
    "version": 3
   },
   "file_extension": ".py",
   "mimetype": "text/x-python",
   "name": "python",
   "nbconvert_exporter": "python",
   "pygments_lexer": "ipython3",
   "version": "3.9.7"
  }
 },
 "nbformat": 4,
 "nbformat_minor": 5
}

{
 "cells": [
  {
   "cell_type": "code",
   "execution_count": 1,
   "id": "7d56f928",
   "metadata": {},
   "outputs": [],
   "source": [
    "import numpy as np\n",
    "import matplotlib.pyplot as plt"
   ]
  },
  {
   "cell_type": "code",
   "execution_count": 2,
   "id": "e9277531",
   "metadata": {},
   "outputs": [],
   "source": [
    "# UNIFORM RANDOM DISTRIBUTION OF POINTS ON UNIT SPHERE.\n",
    "def random_spin():\n",
    "    x = np.random.normal(0, 1, 3)\n",
    "    x = x/np.sqrt(x@x)\n",
    "    \n",
    "    return x\n",
    "\n",
    "# RETURN THE VALUE OF SPIN MAGNITUDE.\n",
    "def spin(j):\n",
    "    s = spin_config[j]\n",
    "    if (len(s) == 3):\n",
    "        spin_val = 1\n",
    "    elif (len(s) == 1):\n",
    "        spin_val = 0\n",
    "        \n",
    "    return spin_val\n",
    "\n",
    "# INITIALIZE ENERGY OF THE SYSTEM.\n",
    "def initialize_energy():\n",
    "    Energy = 0\n",
    "    for i in range(n):\n",
    "        Energy += J*(spin_config[i]@spin_config[(i+1)%n])\n",
    "        \n",
    "    return Energy"
   ]
  },
  {
   "cell_type": "code",
   "execution_count": 3,
   "id": "7556ea70",
   "metadata": {},
   "outputs": [],
   "source": [
    "def dot(v1, v2):\n",
    "    if (len(v1) == 3 and len(v2) == 3):\n",
    "        dot_prod = v1@v2\n",
    "    else:\n",
    "        dot_prod = 0\n",
    "        \n",
    "    return dot_prod"
   ]
  },
  {
   "cell_type": "code",
   "execution_count": 4,
   "id": "ffd45783",
   "metadata": {},
   "outputs": [],
   "source": [
    "def spin_rotation(ix):\n",
    "    global E\n",
    "    global spin_config\n",
    "\n",
    "    spin_new = random_spin()\n",
    "    dS = spin_new - spin_config[ix]\n",
    "    \n",
    "    # Calculating change in E.\n",
    "    dE = J*(dot(dS, spin_config[(ix - 1)%n]) + dot(dS, spin_config[(ix + 1)%n]))\n",
    "    \n",
    "    # Metropolis implementation.\n",
    "    \n",
    "    p_accept = min(1, np.exp(-beta*dE))\n",
    "    if (np.random.random() <= p_accept):\n",
    "        spin_config[ix] = spin_new\n",
    "        E += dE"
   ]
  },
  {
   "cell_type": "code",
   "execution_count": 5,
   "id": "6f606408",
   "metadata": {},
   "outputs": [],
   "source": [
    "def make_dimer(ix):\n",
    "    global E\n",
    "    global spin_config\n",
    "\n",
    "    # jx is the selected neighbour. ix is the original site.\n",
    "\n",
    "    unpaired_list = []\n",
    "    for nbr in [(ix-1), (ix+1)]:\n",
    "        if (spin((nbr)%n) == 1):\n",
    "            unpaired_list.append(nbr)\n",
    "    \n",
    "    if(len(unpaired_list)==0):\n",
    "        return\n",
    "    \n",
    "    else:\n",
    "        jx = (np.random.choice(unpaired_list))%n\n",
    "\n",
    "        # Calculate the change in energy if dimer is formed.\n",
    "        E_1 = -(3*J)\n",
    "        E_2 = -J*(dot(spin_config[ix], spin_config[(ix - 1)%n]) + dot(spin_config[ix], spin_config[(ix + 1)%n]))\n",
    "        E_3 = -J*(dot(spin_config[jx], spin_config[(jx - 1)%n]) + dot(spin_config[jx], spin_config[(jx + 1)%n]))\n",
    "        E_4 = J*(dot(spin_config[ix], spin_config[jx]))\n",
    "\n",
    "        dE = E_1 + E_2 + E_3 + E_4\n",
    "\n",
    "        # Metropolis implementation.\n",
    "\n",
    "        p_accept = min(1, np.exp(-beta*dE))\n",
    "        if (np.random.random() <= p_accept):\n",
    "            spin_config[ix] = np.array([jx])\n",
    "            spin_config[jx] = np.array([ix])\n",
    "            E += dE"
   ]
  },
  {
   "cell_type": "code",
   "execution_count": 6,
   "id": "e003d13b",
   "metadata": {},
   "outputs": [],
   "source": [
    "def break_dimer(ix):\n",
    "    global E\n",
    "    global spin_config\n",
    "\n",
    "    jx = spin_config[ix][0]\n",
    "     \n",
    "    spin_config_new = np.copy(spin_config)\n",
    "\n",
    "    # Modifying a copy of the spin configutation.\n",
    "    \n",
    "    spin_config_new[ix] = random_spin()\n",
    "    spin_config_new[jx] = random_spin()\n",
    "    \n",
    "    E_1 = +(3*J)\n",
    "    E_2 = +J*(dot(spin_config_new[ix], spin_config_new[(ix - 1)%n]) + dot(spin_config_new[ix], spin_config_new[(ix + 1)%n]))\n",
    "    E_3 = +J*(dot(spin_config_new[jx], spin_config_new[(jx - 1)%n]) + dot(spin_config_new[jx], spin_config_new[(jx + 1)%n]))\n",
    "    E_4 = -J*(dot(spin_config_new[ix], spin_config_new[jx]))\n",
    "    \n",
    "    dE = E_1 + E_2 + E_3 + E_4\n",
    "    \n",
    "    # Metropolis implementation.\n",
    "    \n",
    "    p_accept = min(1, np.exp(-beta*dE))\n",
    "    if (np.random.random() <= p_accept):\n",
    "        spin_config[ix] = spin_config_new[ix]\n",
    "        spin_config[jx] = spin_config_new[jx]\n",
    "        E += dE"
   ]
  },
  {
   "cell_type": "code",
   "execution_count": 7,
   "id": "eca0f86e",
   "metadata": {},
   "outputs": [],
   "source": [
    "# MONTE CARLO SWEEP (RANDOM)\n",
    "\n",
    "def monte_carlo_sweep(ix):\n",
    "    \n",
    "    # f tunes the ratio of random spin rotations to dimer formation. Increase f to increase dimer formation.\n",
    "    f = 0.5\n",
    "    \n",
    "    # If the chosen site has a free spin.\n",
    "    if (spin(ix) == 1):\n",
    "        if (f <= np.random.random()):\n",
    "            spin_rotation(ix)\n",
    "        else:\n",
    "            make_dimer(ix)\n",
    "            \n",
    "    # If the chosen site is part of a dimer.        \n",
    "    elif (spin(ix) == 0):\n",
    "        break_dimer(ix)\n",
    "        \n",
    "    free_spins = []\n",
    "    \n",
    "    for i in range(n):\n",
    "        if (spin((i)%n) == 1):\n",
    "            free_spins.append(i)\n",
    "    \n",
    "    if(len(free_spins)==0):\n",
    "        iene = E/n\n",
    "        stot = np.zeros((3), dtype=np.float64)\n",
    "    \n",
    "        return iene, stot\n",
    "    \n",
    "    else:\n",
    "        S = np.zeros((3), dtype=np.float64)\n",
    "#         print(S)\n",
    "    \n",
    "        for ix in free_spins:\n",
    "            S += np.array(spin_config[ix])\n",
    "#             print(S, spin_config[ix])\n",
    "    \n",
    "#     print(\"Done!\")\n",
    "\n",
    "    iene = E/n\n",
    "    stot = S/n\n",
    "    \n",
    "    return iene, stot"
   ]
  },
  {
   "cell_type": "code",
   "execution_count": 8,
   "id": "49a22107",
   "metadata": {},
   "outputs": [],
   "source": [
    "# DEFINE THE LATTICE.\n",
    "n = 50\n",
    "beta = 100\n",
    "J = +1\n",
    "\n",
    "global spin_config\n",
    "global E \n",
    "\n",
    "spin_config = np.zeros((n), dtype=np.ndarray)\n",
    "\n",
    "for i in range(n):\n",
    "        spin_config[i] = random_spin()    \n",
    "    \n",
    "E = initialize_energy()"
   ]
  },
  {
   "cell_type": "code",
   "execution_count": 9,
   "id": "bf1aad1c",
   "metadata": {},
   "outputs": [
    {
     "name": "stdout",
     "output_type": "stream",
     "text": [
      "[array([1]) array([0]) array([3]) array([2]) array([5]) array([4])\n",
      " array([7]) array([6]) array([9]) array([8]) array([11]) array([10])\n",
      " array([-0.27646551,  0.62796761, -0.72747749]) array([14]) array([13])\n",
      " array([ 0.12778071, -0.43820355,  0.88974701]) array([17]) array([16])\n",
      " array([19]) array([18]) array([21]) array([20]) array([23]) array([22])\n",
      " array([25]) array([24]) array([27]) array([26]) array([29]) array([28])\n",
      " array([ 0.67595019, -0.21866398,  0.70375948]) array([32]) array([31])\n",
      " array([34]) array([33]) array([36]) array([35]) array([38]) array([37])\n",
      " array([40]) array([39]) array([42]) array([41]) array([44]) array([43])\n",
      " array([46]) array([45]) array([ 0.81826596, -0.44502972,  0.36385349])\n",
      " array([49]) array([48])]\n",
      "46\n"
     ]
    }
   ],
   "source": [
    "nsweeps = 100000\n",
    "\n",
    "E_list = []\n",
    "S_list = []\n",
    "\n",
    "for i in range(nsweeps):\n",
    "    ix = int(np.random.random()*n)\n",
    "    E_meas, S_meas = monte_carlo_sweep(ix)\n",
    "    \n",
    "    E_list.append(E_meas)\n",
    "    S_list.append(S_meas)\n",
    "    \n",
    "count_dimer = 0\n",
    "for i in range(n):\n",
    "    if (len(spin_config[i]) == 1):\n",
    "        count_dimer +=1\n",
    "        \n",
    "print(spin_config)\n",
    "print(count_dimer)"
   ]
  },
  {
   "cell_type": "code",
   "execution_count": 10,
   "id": "196674e7",
   "metadata": {},
   "outputs": [
    {
     "data": {
      "image/png": "[encoded data removed]",
      "text/plain": [
       "<Figure size 432x288 with 1 Axes>"
      ]
     },
     "metadata": {
      "needs_background": "light"
     },
     "output_type": "display_data"
    }
   ],
   "source": [
    "spin_state = np.zeros((n))\n",
    "\n",
    "for i in range(n):\n",
    "    if (len(spin_config[i]) == 3):\n",
    "        spin_state[i] = 1\n",
    "\n",
    "spin_state\n",
    "plt.imshow(np.array([np.array(spin_state)]) , cmap = 'coolwarm' , interpolation = 'nearest' )\n",
    "plt.show()"
   ]
  },
  {
   "cell_type": "code",
   "execution_count": 11,
   "id": "3cf6feb2",
   "metadata": {},
   "outputs": [
    {
     "data": {
      "image/png": "[encoded data removed]",
      "text/plain": [
       "<Figure size 432x288 with 1 Axes>"
      ]
     },
     "metadata": {
      "needs_background": "light"
     },
     "output_type": "display_data"
    }
   ],
   "source": [
    "plt.plot(np.array(S_list).T[2], '.-')\n",
    "plt.xlabel(\"Monte Carlo time\")\n",
    "plt.ylabel(r'$S_z/n$')\n",
    "plt.grid(True)\n",
    "plt.show()"
   ]
  },
  {
   "cell_type": "code",
   "execution_count": 12,
   "id": "81212d72",
   "metadata": {},
   "outputs": [
    {
     "data": {
      "image/png": "[encoded data removed]",
      "text/plain": [
       "<Figure size 432x288 with 1 Axes>"
      ]
     },
     "metadata": {
      "needs_background": "light"
     },
     "output_type": "display_data"
    }
   ],
   "source": [
    "plt.plot(E_list, '.-')\n",
    "plt.xlabel(\"Monte Carlo time\")\n",
    "plt.ylabel(r'$E/n$')\n",
    "plt.grid(True)\n",
    "plt.show()"
   ]
  },
  {
   "cell_type": "code",
   "execution_count": 225,
   "id": "3219c9e9",
   "metadata": {},
   "outputs": [
    {
     "data": {
      "text/plain": [
       "0"
      ]
     },
     "execution_count": 225,
     "metadata": {},
     "output_type": "execute_result"
    }
   ],
   "source": [
    "S_list[1379]"
   ]
  },
  {
   "cell_type": "code",
   "execution_count": null,
   "id": "92dd75a3",
   "metadata": {},
   "outputs": [],
   "source": []
  }
 ],
 "metadata": {
  "kernelspec": {
   "display_name": "Python 3 (ipykernel)",
   "language": "python",
   "name": "python3"
  },
  "language_info": {
   "codemirror_mode": {
    "name": "ipython",
    "version": 3
   },
   "file_extension": ".py",
   "mimetype": "text/x-python",
   "name": "python",
   "nbconvert_exporter": "python",
   "pygments_lexer": "ipython3",
   "version": "3.9.7"
  }
 },
 "nbformat": 4,
 "nbformat_minor": 5
}

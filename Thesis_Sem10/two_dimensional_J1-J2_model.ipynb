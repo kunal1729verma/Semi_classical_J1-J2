{
 "cells": [
  {
   "cell_type": "code",
   "execution_count": 5,
   "id": "941e3141",
   "metadata": {},
   "outputs": [],
   "source": [
    "import numpy as np\n",
    "import matplotlib.pyplot as plt"
   ]
  },
  {
   "cell_type": "code",
   "execution_count": 6,
   "id": "7a577361",
   "metadata": {},
   "outputs": [],
   "source": [
    "# UNIFORM RANDOM DISTRIBUTION OF POINTS ON UNIT SPHERE.\n",
    "def random_spin():\n",
    "    x = np.random.normal(0, 1, 3)\n",
    "    x = x/np.sqrt(x@x)\n",
    "    \n",
    "    return x\n",
    "\n",
    "# RETURN THE VALUE OF SPIN MAGNITUDE.\n",
    "def spin(site):\n",
    "    i_ = site[0]%n\n",
    "    j_ = site[1]%n\n",
    "    s = spin_config[i_][j_]\n",
    "    if (len(s) == 3):\n",
    "        spin_val = 1\n",
    "    elif (len(s) == 2):\n",
    "        spin_val = 0\n",
    "        \n",
    "    return spin_val\n",
    "\n",
    "# INITIALIZE ENERGY OF THE SYSTEM.\n",
    "def initialize_energy():\n",
    "    Energy = 0\n",
    "    for i in range(n):\n",
    "        for j in range(n):\n",
    "            Energy += (J1/4)*(dot(spin_config[i][j], spin_config[(i+1)%n][j]) + dot(spin_config[i][j],spin_config[i][(j+1)%n]))\n",
    "            Energy += (J2/4)*(dot(spin_config[i][j], spin_config[(i+1)%n][(j+1)%n]) + dot(spin_config[i][j], spin_config[(i+1)%n][(j-1)%n]))\n",
    "        \n",
    "    return Energy"
   ]
  },
  {
   "cell_type": "code",
   "execution_count": 7,
   "id": "4a6e992c",
   "metadata": {},
   "outputs": [],
   "source": [
    "# DOT PRODUCT DEFINITION\n",
    "\n",
    "def dot(v1, v2):\n",
    "    if (len(v1) == 3 and len(v2) == 3):\n",
    "        dot_prod = v1@v2\n",
    "    else:\n",
    "        dot_prod = 0\n",
    "        \n",
    "    return dot_prod\n",
    "\n",
    "# DISTANCES ON A TORUS\n",
    "\n",
    "def dist(site1, site2):\n",
    "    ix = site1[0]\n",
    "    iy = site1[1]\n",
    "    jx = site2[0]\n",
    "    jy = site2[1]\n",
    "    \n",
    "    rx = abs(ix - jx)\n",
    "    if (rx >= n/2):\n",
    "        distancex = n - rx\n",
    "    else:\n",
    "        distancex = rx\n",
    "        \n",
    "    ry = abs(iy - jy)\n",
    "    if (ry >= n/2):\n",
    "        distancey = n - ry\n",
    "    else:\n",
    "        distancey = ry\n",
    "    \n",
    "    if (distancex == 0 or distancey == 0):\n",
    "        distance = 1\n",
    "        \n",
    "    elif (distancex == 1 and distancey == 1):\n",
    "        distance = 2\n",
    "    \n",
    "    else:\n",
    "        print(\"Error?\")\n",
    "    \n",
    "    return distance"
   ]
  },
  {
   "cell_type": "code",
   "execution_count": 8,
   "id": "edad38df",
   "metadata": {},
   "outputs": [],
   "source": [
    "def make_dimer(site):\n",
    "    global E\n",
    "    global spin_config\n",
    "\n",
    "    ix = site[0]\n",
    "    iy = site[1]\n",
    "    \n",
    "    unpaired_list = []\n",
    "    for nbr in [[ix+1, iy], [ix-1, iy], [ix, iy+1], [ix, iy-1], [ix-1, iy-1], [ix-1, iy+1], [ix+1, iy-1], [ix+1, iy+1]]:\n",
    "        if (spin(nbr) == 1):\n",
    "            unpaired_list.append(nbr)\n",
    "    \n",
    "    if(len(unpaired_list)==0):\n",
    "        return\n",
    "    \n",
    "    else:\n",
    "        unpaired_indices = np.random.choice(len(unpaired_list))\n",
    "        unpaired_data = unpaired_list[unpaired_indices]\n",
    "        \n",
    "        jx = unpaired_data[0]%n\n",
    "        jy = unpaired_data[1]%n\n",
    "\n",
    "        if (dist([ix, iy], [jx, jy]) == 1):\n",
    "            J = J1\n",
    "        elif(dist([ix, iy], [jx, jy]) == 2):\n",
    "            J = J2\n",
    "\n",
    "        # Calculate the change in energy if dimer is formed.\n",
    "        E_1 = -(3*J)/4\n",
    "        E_2 = - (J1/4)*(dot(spin_config[ix][iy], spin_config[(ix-1)%n][iy]) + dot(spin_config[ix][iy], spin_config[(ix+1)%n][iy]) + dot(spin_config[ix][iy], spin_config[ix][(iy-1)%n]) + dot(spin_config[ix][iy], spin_config[ix][(iy+1)%n]) + dot(spin_config[jx][jy], spin_config[(jx-1)%n][jy]) + dot(spin_config[jx][jy], spin_config[(jx+1)%n][jy]) + dot(spin_config[jx][jy], spin_config[jx][(jy+1)%n]) + dot(spin_config[jx][jy], spin_config[jx][(jy-1)%n]))\n",
    "        E_3 = - (J2/4)*(dot(spin_config[ix][iy], spin_config[(ix-1)%n][(iy-1)%n]) + dot(spin_config[ix][iy], spin_config[(ix+1)%n][(iy-1)%n]) + dot(spin_config[ix][iy], spin_config[(ix-1)%n][(iy+1)%n]) + dot(spin_config[ix][iy], spin_config[(ix+1)%n][(iy+1)%n]) + dot(spin_config[jx][jy], spin_config[(jx-1)%n][(jy-1)%n]) + dot(spin_config[jx][jy], spin_config[(jx+1)%n][(jy-1)%n]) + dot(spin_config[jx][jy], spin_config[(jx-1)%n][(jy+1)%n]) + dot(spin_config[jx][jy], spin_config[(jx+1)%n][(jy+1)%n]))\n",
    "        #         E_3 = - (J2/4)*(dot(spin_config[ix], spin_config[(ix - 2)%n]) + dot(spin_config[ix], spin_config[(ix + 2)%n]) + dot(spin_config[jx], spin_config[(jx - 2)%n]) + dot(spin_config[jx], spin_config[(jx + 2)%n]))\n",
    "        E_4 = (J/4)*(dot(spin_config[ix][iy], spin_config[jx][jy]))\n",
    "\n",
    "        dE = E_1 + E_2 + E_3 + E_4\n",
    "\n",
    "        # Metropolis implementation.\n",
    "\n",
    "        p_accept = min(1, np.exp(-beta*dE))\n",
    "        if (np.random.random() <= p_accept):\n",
    "            spin_config[ix][iy] = [jx, jy]\n",
    "            spin_config[jx][jy] = [ix, iy]\n",
    "            E += dE"
   ]
  },
  {
   "cell_type": "code",
   "execution_count": 9,
   "id": "5ff83f7f",
   "metadata": {},
   "outputs": [],
   "source": [
    "def spin_rotation(site):\n",
    "    global E\n",
    "    global spin_config\n",
    "\n",
    "    ix = site[0]\n",
    "    iy = site[1]\n",
    "    \n",
    "    spin_new = random_spin()\n",
    "    dS = spin_new - spin_config[ix][iy]\n",
    "    \n",
    "    # Calculating change in E.\n",
    "    dE1= (J1/4)*(dot(dS, spin_config[(ix - 1)%n][iy]) + dot(dS, spin_config[(ix + 1)%n][iy]) + dot(dS, spin_config[ix][(iy - 1)%n]) + dot(dS, spin_config[ix][(iy + 1)%n])) \n",
    "    dE2= (J2/4)*(dot(dS, spin_config[(ix - 1)%n][(iy - 1)%n]) + dot(dS, spin_config[(ix + 1)%n][(iy - 1)%n]) + dot(dS, spin_config[(ix - 1)%n][(iy + 1)%n]) + dot(dS, spin_config[(ix + 1)%n][(iy + 1)%n]))\n",
    "    \n",
    "    dE = dE1 + dE2\n",
    "    # Metropolis implementation.\n",
    "    \n",
    "    p_accept = min(1, np.exp(-beta*dE))\n",
    "    \n",
    "#     print(dE, p_accept)\n",
    "    if (np.random.random() <= p_accept):\n",
    "        spin_config[ix][iy] = spin_new\n",
    "        E += dE"
   ]
  },
  {
   "cell_type": "code",
   "execution_count": 10,
   "id": "9b384c62",
   "metadata": {},
   "outputs": [],
   "source": [
    "def break_dimer(site):\n",
    "    global E\n",
    "    global spin_config\n",
    "\n",
    "    ix = site[0]\n",
    "    iy = site[1]\n",
    "    \n",
    "    jx = spin_config[ix][iy][0]\n",
    "    jy = spin_config[ix][iy][1]\n",
    "    \n",
    "    if (dist([ix, iy], [jx, jy]) == 1):\n",
    "        J = J1\n",
    "    elif(dist([ix, iy], [jx, jy]) == 2):\n",
    "        J = J2\n",
    "     \n",
    "    spin_config_new = np.copy(spin_config)\n",
    "\n",
    "    # Modifying a copy of the spin configutation.\n",
    "    \n",
    "    spin_config_new[ix][iy] = random_spin()\n",
    "    spin_config_new[jx][jy] = random_spin()\n",
    "    \n",
    "    # Calculate the change in energy if dimer is broken.\n",
    "    E_1 = + (3*J)/4\n",
    "    E_2 = + (J1/4)*(dot(spin_config_new[ix][iy], spin_config_new[(ix-1)%n][iy]) + dot(spin_config_new[ix][iy], spin_config_new[(ix+1)%n][iy]) + dot(spin_config_new[ix][iy], spin_config_new[ix][(iy-1)%n]) + dot(spin_config_new[ix][iy], spin_config_new[ix][(iy+1)%n]) + dot(spin_config_new[jx][jy], spin_config_new[(jx-1)%n][jy]) + dot(spin_config_new[jx][jy], spin_config_new[(jx+1)%n][jy]) + dot(spin_config_new[jx][jy], spin_config_new[jx][(jy+1)%n]) + dot(spin_config_new[jx][jy], spin_config_new[jx][(jy-1)%n]))\n",
    "    E_3 = + (J2/4)*(dot(spin_config_new[ix][iy], spin_config_new[(ix-1)%n][(iy-1)%n]) + dot(spin_config_new[ix][iy], spin_config_new[(ix+1)%n][(iy-1)%n]) + dot(spin_config_new[ix][iy], spin_config_new[(ix-1)%n][(iy+1)%n]) + dot(spin_config_new[ix][iy], spin_config_new[(ix+1)%n][(iy+1)%n]) + dot(spin_config_new[jx][jy], spin_config_new[(jx-1)%n][(jy-1)%n]) + dot(spin_config_new[jx][jy], spin_config_new[(jx+1)%n][(jy-1)%n]) + dot(spin_config_new[jx][jy], spin_config_new[(jx-1)%n][(jy+1)%n]) + dot(spin_config_new[jx][jy], spin_config_new[(jx+1)%n][(jy+1)%n]))\n",
    "    E_4 = - (J/4)*(dot(spin_config_new[ix][iy], spin_config_new[jx][jy]))\n",
    "\n",
    "    dE = E_1 + E_2 + E_3 + E_4\n",
    "    \n",
    "    # Metropolis implementation.\n",
    "    \n",
    "    p_accept = min(1, np.exp(-beta*dE))\n",
    "    if (np.random.random() <= p_accept):\n",
    "        spin_config[ix][iy] = spin_config_new[ix][iy]\n",
    "        spin_config[jx][jy] = spin_config_new[jx][jy]\n",
    "        E += dE"
   ]
  },
  {
   "cell_type": "code",
   "execution_count": 11,
   "id": "3ba18c42",
   "metadata": {},
   "outputs": [],
   "source": [
    "# MONTE CARLO SWEEP (RANDOM)\n",
    "\n",
    "def monte_carlo_sweep():\n",
    "    \n",
    "    for i in range(n*n):\n",
    "        \n",
    "        ix = int(np.random.random()*n)\n",
    "        iy = int(np.random.random()*n)\n",
    "        \n",
    "        site = [ix, iy]\n",
    "        \n",
    "        # f tunes the ratio of random spin rotations to dimer formation. Increase f to increase dimer formation.\n",
    "        f = 0.5\n",
    "\n",
    "        # If the chosen site has a free spin.\n",
    "        if (spin(site) == 1):\n",
    "            if (f <= np.random.random()):\n",
    "                spin_rotation(site)\n",
    "            else:\n",
    "                make_dimer(site)\n",
    "\n",
    "        # If the chosen site is part of a dimer.        \n",
    "        elif (spin(site) == 0):\n",
    "            break_dimer(site)\n",
    "\n",
    "    # One MC Sweep Over.\n",
    "            \n",
    "    free_spins = []\n",
    "    \n",
    "    for i in range(n):\n",
    "        for j in range(n):\n",
    "            if (spin([i, j]) == 1):\n",
    "                free_spins.append([i, j])\n",
    "    \n",
    "    if(len(free_spins)==0):\n",
    "        iene = E/(n*n)\n",
    "        stot = np.zeros((3), dtype=np.float64)\n",
    "    \n",
    "        return iene, stot\n",
    "    \n",
    "    else:\n",
    "        S = np.zeros((3), dtype=np.float64)\n",
    "        \n",
    "        for sites in free_spins:\n",
    "            S += np.array(spin_config[sites[0]][sites[1]])*((-1)**(sites[0]+sites[1]))\n",
    "\n",
    "    iene = E/(n*n)\n",
    "    stot = S/(n*n)\n",
    "    \n",
    "    return iene, stot"
   ]
  },
  {
   "cell_type": "code",
   "execution_count": 32,
   "id": "c1b003c6",
   "metadata": {},
   "outputs": [
    {
     "name": "stdout",
     "output_type": "stream",
     "text": [
      "[[list([0, 1]) list([0, 0]) list([1, 2]) list([0, 4]) list([0, 3])\n",
      "  list([9, 5]) list([9, 6]) list([9, 7]) list([1, 8]) list([9, 8])]\n",
      " [list([1, 1]) list([1, 0]) list([0, 2]) list([1, 4]) list([1, 3])\n",
      "  array([ 0.81830429, -0.41431501, -0.39839824]) list([1, 7])\n",
      "  list([1, 6]) list([0, 8]) list([2, 9])]\n",
      " [list([3, 9]) list([2, 2]) list([2, 1]) list([3, 3]) list([3, 4])\n",
      "  list([2, 6]) list([2, 5])\n",
      "  array([-0.56718961,  0.77519783, -0.27814434]) list([3, 8])\n",
      "  list([1, 9])]\n",
      " [list([4, 0]) list([3, 2]) list([3, 1]) list([2, 3]) list([2, 4])\n",
      "  list([3, 6]) list([3, 5]) list([4, 7]) list([2, 8]) list([2, 0])]\n",
      " [list([3, 0]) list([5, 1]) list([4, 3]) list([4, 2]) list([4, 5])\n",
      "  list([4, 4]) list([5, 5]) list([3, 7]) list([5, 8]) list([5, 9])]\n",
      " [array([0.28354651, 0.6246165 , 0.727637  ]) list([4, 1])\n",
      "  array([ 0.40769048, -0.80615006, -0.42884794]) list([5, 4])\n",
      "  list([5, 3]) list([4, 6]) list([6, 6]) list([6, 7]) list([4, 8])\n",
      "  list([4, 9])]\n",
      " [list([7, 0]) list([6, 2]) list([6, 1]) list([6, 4]) list([6, 3])\n",
      "  list([7, 5]) list([5, 6]) list([5, 7]) list([6, 9]) list([6, 8])]\n",
      " [list([6, 0]) array([ 0.3814575 ,  0.1861111 , -0.90545725])\n",
      "  list([7, 3]) list([7, 2]) list([8, 4]) list([6, 5])\n",
      "  array([-0.99334504, -0.10955904,  0.03553098]) list([8, 7])\n",
      "  list([7, 9]) list([7, 8])]\n",
      " [list([8, 1]) list([8, 0]) list([8, 3]) list([8, 2]) list([7, 4])\n",
      "  list([8, 6]) list([8, 5]) list([7, 7]) list([8, 9]) list([8, 8])]\n",
      " [list([9, 9]) list([9, 2]) list([9, 1]) list([9, 4]) list([9, 3])\n",
      "  list([0, 5]) list([0, 6]) list([0, 7]) list([0, 9]) list([9, 0])]]\n",
      "94\n"
     ]
    }
   ],
   "source": [
    "# DEFINE THE LATTICE.\n",
    "n = 10\n",
    "beta = 10\n",
    "J1 = 4\n",
    "J2 = 1.3\n",
    "\n",
    "global spin_config\n",
    "spin_config = np.zeros((n, n), dtype=np.ndarray)\n",
    "\n",
    "for i in range(n):\n",
    "    for j in range(n):\n",
    "        spin_config[i][j] = random_spin()\n",
    "#         spin_config[i][j] = np.array([0.57735027, 0.57735027, 0.57735027])*((-1)**(i+j))\n",
    "    \n",
    "global E \n",
    "E = initialize_energy()\n",
    "\n",
    "# print(spin_config, E)\n",
    "\n",
    "nsweeps = int(5.0e3)\n",
    "\n",
    "E_list = []\n",
    "S_list = []\n",
    "\n",
    "for i in range(nsweeps):\n",
    "        E_meas, S_meas = monte_carlo_sweep()\n",
    "            \n",
    "        E_list.append(E_meas)\n",
    "        S_list.append(S_meas)\n",
    "\n",
    "count_dimer = 0\n",
    "for i in range(n):\n",
    "    for j in range(n):\n",
    "        if (len(spin_config[i][j]) == 2):\n",
    "            count_dimer +=1\n",
    "        \n",
    "print(spin_config)\n",
    "print(count_dimer)"
   ]
  },
  {
   "cell_type": "code",
   "execution_count": 33,
   "id": "81aa4896",
   "metadata": {},
   "outputs": [
    {
     "data": {
      "image/png": "[encoded data removed]",
      "text/plain": [
       "<Figure size 432x288 with 1 Axes>"
      ]
     },
     "metadata": {
      "needs_background": "light"
     },
     "output_type": "display_data"
    }
   ],
   "source": [
    "spin_state = np.zeros((n,n))\n",
    "\n",
    "for i in range(n):\n",
    "    for j in range(n):\n",
    "        if (len(spin_config[i][j]) == 3):\n",
    "            spin_state[i][j] = 1\n",
    "\n",
    "spin_state\n",
    "plt.imshow(np.array(spin_state) , cmap = 'plasma' , interpolation = 'nearest', vmin = 0, vmax = 1)\n",
    "# plt.pcolormesh(np.array(spin_state), edgecolors='k', linewidth=2)\n",
    "ax = plt.gca();\n",
    "\n",
    "# Major ticks\n",
    "ax.set_xticks(np.arange(0, 10, 1))\n",
    "ax.set_yticks(np.arange(0, 10, 1))\n",
    "\n",
    "# Labels for major ticks\n",
    "ax.set_xticklabels(np.arange(1, 11, 1))\n",
    "ax.set_yticklabels(np.arange(1, 11, 1))\n",
    "\n",
    "# Minor ticks\n",
    "ax.set_xticks(np.arange(-.5, 10, 1), minor=True)\n",
    "ax.set_yticks(np.arange(-.5, 10, 1), minor=True)\n",
    "\n",
    "# Gridlines based on minor ticks\n",
    "ax.grid(which='minor', color='k', linestyle='-', linewidth=2)\n",
    "\n",
    "# Remove minor ticks\n",
    "ax.tick_params(which='minor', bottom=False, left=False)\n",
    "plt.show()"
   ]
  },
  {
   "cell_type": "code",
   "execution_count": 34,
   "id": "df4e8175",
   "metadata": {},
   "outputs": [],
   "source": [
    "# Blue = Dimer\n",
    "# Yellow = Free Spins"
   ]
  },
  {
   "cell_type": "code",
   "execution_count": 35,
   "id": "b99ac0ed",
   "metadata": {},
   "outputs": [
    {
     "data": {
      "image/png": "[encoded data removed]",
      "text/plain": [
       "<Figure size 432x288 with 1 Axes>"
      ]
     },
     "metadata": {
      "needs_background": "light"
     },
     "output_type": "display_data"
    }
   ],
   "source": [
    "plt.plot(np.array(S_list).T[2], '.-')\n",
    "plt.xlabel(\"Monte Carlo time\")\n",
    "plt.ylabel(r'$S_z/n^2$')\n",
    "# plt.ylim([-1,1])\n",
    "plt.grid(True)\n",
    "plt.show()"
   ]
  },
  {
   "cell_type": "code",
   "execution_count": 36,
   "id": "4bec31cf",
   "metadata": {},
   "outputs": [
    {
     "data": {
      "image/png": "[encoded data removed]",
      "text/plain": [
       "<Figure size 432x288 with 1 Axes>"
      ]
     },
     "metadata": {
      "needs_background": "light"
     },
     "output_type": "display_data"
    }
   ],
   "source": [
    "plt.hist(np.array(S_list).T[2], density = True, bins = 50)\n",
    "plt.xlabel(r'$S_z/n^2$')\n",
    "plt.ylabel(\"Density\")\n",
    "plt.grid(True)\n",
    "plt.show()"
   ]
  },
  {
   "cell_type": "code",
   "execution_count": 37,
   "id": "12607293",
   "metadata": {},
   "outputs": [
    {
     "data": {
      "image/png": "[encoded data removed]",
      "text/plain": [
       "<Figure size 432x288 with 1 Axes>"
      ]
     },
     "metadata": {
      "needs_background": "light"
     },
     "output_type": "display_data"
    }
   ],
   "source": [
    "plt.plot(E_list, '.-')\n",
    "plt.xlabel(\"Monte Carlo time\")\n",
    "plt.ylabel(r'$E/n^2$')\n",
    "plt.grid(True)\n",
    "plt.show()"
   ]
  },
  {
   "cell_type": "code",
   "execution_count": null,
   "id": "26e2beff",
   "metadata": {
    "scrolled": true
   },
   "outputs": [],
   "source": [
    "# # DEFINE THE LATTICE.\n",
    "# n = 10\n",
    "# # beta = 4\n",
    "# J1 = 4\n",
    "# J2 = 1.5\n",
    "\n",
    "\n",
    "# global spin_config\n",
    "# spin_config = np.zeros((n, n), dtype=np.ndarray)\n",
    "\n",
    "# for i in range(n):\n",
    "#     for j in range(n):\n",
    "# #         spin_config[i][j] = random_spin()\n",
    "#         spin_config[i][j] = np.array([0.57735027, 0.57735027, 0.57735027])*((-1)**(i+j))\n",
    "    \n",
    "# for beta in (np.concatenate((np.arange(0.1, 1.1, 0.1), np.arange(2, 12, 2)))):\n",
    "#     global E \n",
    "#     E = initialize_energy()\n",
    "\n",
    "#     # print(spin_config, E)\n",
    "\n",
    "#     nsweeps = int(5.0e3)\n",
    "\n",
    "#     E_list = []\n",
    "#     S_list = []\n",
    "\n",
    "#     for i in range(nsweeps):\n",
    "#             E_meas, S_meas = monte_carlo_sweep()\n",
    "\n",
    "#             E_list.append(E_meas)\n",
    "#             S_list.append(S_meas)\n",
    "\n",
    "#     count_dimer = 0\n",
    "#     for i in range(n):\n",
    "#         for j in range(n):\n",
    "#             if (len(spin_config[i][j]) == 2):\n",
    "#                 count_dimer +=1\n",
    "\n",
    "#     print(spin_config)\n",
    "#     print(count_dimer)\n",
    "#     print(beta)"
   ]
  },
  {
   "cell_type": "code",
   "execution_count": 28,
   "id": "a817a0e0",
   "metadata": {
    "scrolled": false
   },
   "outputs": [
    {
     "name": "stdout",
     "output_type": "stream",
     "text": [
      "0\n",
      "100\n",
      "200\n",
      "300\n",
      "400\n",
      "500\n",
      "600\n",
      "700\n",
      "800\n",
      "900\n",
      "1000\n",
      "1100\n",
      "1200\n",
      "1300\n",
      "1400\n",
      "1500\n",
      "1600\n",
      "1700\n",
      "1800\n",
      "1900\n",
      "2000\n",
      "2100\n",
      "2200\n",
      "2300\n",
      "2400\n",
      "2500\n",
      "2600\n",
      "2700\n",
      "2800\n",
      "2900\n",
      "3000\n",
      "3100\n",
      "3200\n",
      "3300\n",
      "3400\n",
      "3500\n",
      "3600\n",
      "3700\n",
      "3800\n",
      "3900\n",
      "4000\n",
      "4100\n",
      "4200\n",
      "4300\n",
      "4400\n",
      "4500\n",
      "4600\n",
      "4700\n",
      "4800\n",
      "4900\n",
      "[[array([0.44625513, 0.50108024, 0.74146811])\n",
      "  array([-0.55031962, -0.44062794, -0.70922164])\n",
      "  array([0.44868545, 0.56610365, 0.69152587])\n",
      "  array([-0.49174989, -0.61258192, -0.61880969])\n",
      "  array([0.59516322, 0.4725772 , 0.64996272])\n",
      "  array([-0.58864691, -0.46457012, -0.66156588])\n",
      "  array([0.51217745, 0.4909039 , 0.70476069])\n",
      "  array([-0.29870551, -0.46944384, -0.83090162])\n",
      "  array([0.49510889, 0.52868566, 0.68946259])\n",
      "  array([-0.5799623 , -0.49713904, -0.64536541])]\n",
      " [array([-0.21127675, -0.58298779, -0.78453003])\n",
      "  array([0.35058033, 0.46685122, 0.81187645])\n",
      "  array([-0.31176027, -0.64313845, -0.69941294])\n",
      "  array([0.49479699, 0.61237884, 0.61657773])\n",
      "  array([-0.48102701, -0.61076612, -0.62894973])\n",
      "  array([0.72649813, 0.48784462, 0.4839505 ])\n",
      "  array([-0.44765389, -0.38265345, -0.80819696])\n",
      "  array([0.4306209 , 0.35716167, 0.82885535])\n",
      "  array([-0.49618975, -0.53441219, -0.68425093])\n",
      "  array([0.46910341, 0.58557022, 0.6610972 ])]\n",
      " [array([0.37267592, 0.37803931, 0.84746619])\n",
      "  array([-0.39148077, -0.37314589, -0.84113313])\n",
      "  array([0.37122349, 0.63541577, 0.67708192])\n",
      "  array([-0.55977085, -0.55117284, -0.61876094])\n",
      "  array([0.61035431, 0.52998524, 0.58871322])\n",
      "  array([-0.6460612 , -0.5154324 , -0.56296925])\n",
      "  array([0.40583054, 0.6992712 , 0.58849075])\n",
      "  array([-0.56721838, -0.45974537, -0.68329899])\n",
      "  array([0.64646154, 0.50310916, 0.57355789])\n",
      "  array([-0.62279777, -0.4231598 , -0.65807197])]\n",
      " [array([-0.55103702, -0.48468434, -0.67929323])\n",
      "  array([0.53332296, 0.40049397, 0.74509812])\n",
      "  array([-0.45752679, -0.45868463, -0.76175957])\n",
      "  array([0.56454361, 0.42493175, 0.7076182 ])\n",
      "  array([-0.66406741, -0.51618788, -0.54089236])\n",
      "  array([0.60192912, 0.61084899, 0.51433923])\n",
      "  array([-0.50152401, -0.65614907, -0.56386352])\n",
      "  array([0.52250656, 0.47123145, 0.71058273])\n",
      "  array([-0.69251846, -0.51980814, -0.50021764])\n",
      "  array([0.67427291, 0.52756048, 0.51675524])]\n",
      " [array([0.49303353, 0.27460554, 0.82553603])\n",
      "  array([-0.45098983, -0.36415549, -0.81486131])\n",
      "  array([0.53152202, 0.48828921, 0.69214015])\n",
      "  array([-0.47864787, -0.50695816, -0.71686096])\n",
      "  array([0.56031333, 0.5405456 , 0.62758221])\n",
      "  array([-0.53267252, -0.6255012 , -0.57009493])\n",
      "  array([0.45922433, 0.61264126, 0.64326022])\n",
      "  array([-0.55310871, -0.35368521, -0.75430599])\n",
      "  array([0.58341068, 0.44400526, 0.68006713])\n",
      "  array([-0.66970874, -0.32145979, -0.66944291])]\n",
      " [array([-0.57622747, -0.58444755, -0.57129936])\n",
      "  array([0.51278364, 0.29757177, 0.80529745])\n",
      "  array([-0.59809336, -0.51178043, -0.61673749])\n",
      "  array([0.54673949, 0.38316665, 0.74448589])\n",
      "  array([-0.60074348, -0.57860155, -0.55165888])\n",
      "  array([0.48454145, 0.72626695, 0.48760219])\n",
      "  array([-0.46769669, -0.75300548, -0.46286343])\n",
      "  array([0.44553163, 0.66816374, 0.5958681 ])\n",
      "  array([-0.58643127, -0.62773632, -0.51190378])\n",
      "  array([0.65215215, 0.55113532, 0.5205261 ])]\n",
      " [array([0.46294272, 0.66803304, 0.58259412])\n",
      "  array([-0.46569262, -0.41245531, -0.78295019])\n",
      "  array([0.61527429, 0.45596038, 0.64306895])\n",
      "  array([-0.58875681, -0.24678323, -0.76971648])\n",
      "  array([0.74356906, 0.48353259, 0.46184552])\n",
      "  array([-0.55026285, -0.57966608, -0.60099753])\n",
      "  array([0.60038646, 0.6996191 , 0.38738767])\n",
      "  array([-0.54284241, -0.71283008, -0.44406688])\n",
      "  array([0.49141667, 0.61387666, 0.6177905 ])\n",
      "  array([-0.50663786, -0.65689288, -0.55839934])]\n",
      " [array([-0.45670393, -0.67919592, -0.57455584])\n",
      "  array([0.52451679, 0.39143725, 0.75608135])\n",
      "  array([-0.62704652, -0.54512336, -0.55646491])\n",
      "  array([0.59804501, 0.33750599, 0.7269332 ])\n",
      "  array([-0.61786932, -0.45432238, -0.64173879])\n",
      "  array([0.39969601, 0.51575748, 0.75778448])\n",
      "  array([-0.57993669, -0.51656451, -0.62994805])\n",
      "  array([0.51345845, 0.69826074, 0.4987909 ])\n",
      "  array([-0.4616916 , -0.76751588, -0.44470241])\n",
      "  array([0.26834046, 0.80266048, 0.5326627 ])]\n",
      " [array([0.48207471, 0.70476736, 0.52048721])\n",
      "  array([-0.50375948, -0.64114182, -0.57893312])\n",
      "  array([0.68379098, 0.53789334, 0.49305239])\n",
      "  array([-0.69273597, -0.38230938, -0.61151976])\n",
      "  array([0.47633196, 0.51804227, 0.71045061])\n",
      "  array([-0.18114476, -0.46295326, -0.86767555])\n",
      "  array([0.5742568 , 0.41197416, 0.70746478])\n",
      "  array([-0.62377455, -0.58064894, -0.52321326])\n",
      "  array([0.58292394, 0.70226915, 0.40867802])\n",
      "  array([-0.4070583 , -0.71204103, -0.57210236])]\n",
      " [array([-0.48211482, -0.6344828 , -0.60414972])\n",
      "  array([0.37278667, 0.62305428, 0.68762887])\n",
      "  array([-0.41638724, -0.65228415, -0.63336171])\n",
      "  array([0.44540439, 0.67894546, 0.58365058])\n",
      "  array([-0.37588164, -0.57735446, -0.72482744])\n",
      "  array([0.2243949 , 0.64610984, 0.72951285])\n",
      "  array([-0.50105061, -0.50471529, -0.70300125])\n",
      "  array([0.53968996, 0.41320231, 0.73348388])\n",
      "  array([-0.56130893, -0.62538445, -0.54205773])\n",
      "  array([0.56152316, 0.59807048, 0.57184214])]]\n",
      "0\n"
     ]
    },
    {
     "data": {
      "image/png": "[encoded data removed]",
      "text/plain": [
       "<Figure size 432x288 with 1 Axes>"
      ]
     },
     "metadata": {
      "needs_background": "light"
     },
     "output_type": "display_data"
    }
   ],
   "source": [
    "# DEFINE THE LATTICE.\n",
    "n = 10\n",
    "beta = 50\n",
    "J1 = 4\n",
    "J2 = 1.3\n",
    "\n",
    "global spin_config\n",
    "spin_config = np.zeros((n, n), dtype=np.ndarray)\n",
    "\n",
    "for i in range(n):\n",
    "    for j in range(n):\n",
    "#         spin_config[i][j] = random_spin()\n",
    "        spin_config[i][j] = np.array([0.57735027, 0.57735027, 0.57735027])*((-1)**(i+j))\n",
    "    \n",
    "global E \n",
    "E = initialize_energy()\n",
    "\n",
    "# print(spin_config, E)\n",
    "\n",
    "nsweeps = int(5.0e3)\n",
    "\n",
    "E_list = []\n",
    "S_list = []\n",
    "\n",
    "for i in range(nsweeps):\n",
    "        E_meas, S_meas = monte_carlo_sweep()\n",
    "            \n",
    "        E_list.append(E_meas)\n",
    "        S_list.append(S_meas)\n",
    "                \n",
    "        if(i%100 == 0):\n",
    "            print(i)\n",
    "\n",
    "count_dimer = 0\n",
    "for i in range(n):\n",
    "    for j in range(n):\n",
    "        if (len(spin_config[i][j]) == 2):\n",
    "            count_dimer +=1\n",
    "        \n",
    "print(spin_config)\n",
    "print(count_dimer)\n",
    "\n",
    "\n",
    "plt.plot(np.array(S_list).T[2], '.-')\n",
    "plt.xlabel(\"Monte Carlo time\")\n",
    "plt.ylabel(r'$S_z/n^2$')\n",
    "# plt.ylim([-1,1])\n",
    "plt.grid(True)\n",
    "plt.show()"
   ]
  },
  {
   "cell_type": "code",
   "execution_count": 29,
   "id": "7a4a6a3a",
   "metadata": {},
   "outputs": [
    {
     "data": {
      "image/png": "[encoded data removed]",
      "text/plain": [
       "<Figure size 432x288 with 1 Axes>"
      ]
     },
     "metadata": {
      "needs_background": "light"
     },
     "output_type": "display_data"
    }
   ],
   "source": [
    "plt.hist(np.array(S_list).T[2], density = True, bins = 50)\n",
    "plt.xlabel(r'$S_z/n^2$')\n",
    "plt.ylabel(\"Density\")\n",
    "plt.grid(True)\n",
    "plt.show()"
   ]
  },
  {
   "cell_type": "code",
   "execution_count": 30,
   "id": "2e6f9f6a",
   "metadata": {
    "scrolled": false
   },
   "outputs": [
    {
     "data": {
      "image/png": "[encoded data removed]",
      "text/plain": [
       "<Figure size 432x288 with 1 Axes>"
      ]
     },
     "metadata": {
      "needs_background": "light"
     },
     "output_type": "display_data"
    }
   ],
   "source": [
    "spin_state = np.zeros((n,n))\n",
    "\n",
    "for i in range(n):\n",
    "    for j in range(n):\n",
    "        if (len(spin_config[i][j]) == 3):\n",
    "            spin_state[i][j] = 1\n",
    "\n",
    "spin_state\n",
    "plt.imshow(np.array(spin_state) , cmap = 'plasma' , interpolation = 'nearest', vmin = 0, vmax = 1)\n",
    "# plt.pcolormesh(np.array(spin_state), edgecolors='k', linewidth=2)\n",
    "ax = plt.gca();\n",
    "\n",
    "# Major ticks\n",
    "ax.set_xticks(np.arange(0, 10, 1))\n",
    "ax.set_yticks(np.arange(0, 10, 1))\n",
    "\n",
    "# Labels for major ticks\n",
    "ax.set_xticklabels(np.arange(1, 11, 1))\n",
    "ax.set_yticklabels(np.arange(1, 11, 1))\n",
    "\n",
    "# Minor ticks\n",
    "ax.set_xticks(np.arange(-.5, 10, 1), minor=True)\n",
    "ax.set_yticks(np.arange(-.5, 10, 1), minor=True)\n",
    "\n",
    "# Gridlines based on minor ticks\n",
    "ax.grid(which='minor', color='k', linestyle='-', linewidth=2)\n",
    "\n",
    "# Remove minor ticks\n",
    "ax.tick_params(which='minor', bottom=False, left=False)\n",
    "plt.show()"
   ]
  },
  {
   "cell_type": "code",
   "execution_count": 31,
   "id": "2e968c3a",
   "metadata": {
    "scrolled": false
   },
   "outputs": [
    {
     "data": {
      "image/png": "[encoded data removed]",
      "text/plain": [
       "<Figure size 432x288 with 1 Axes>"
      ]
     },
     "metadata": {
      "needs_background": "light"
     },
     "output_type": "display_data"
    }
   ],
   "source": [
    "plt.plot(E_list, '.-')\n",
    "plt.xlabel(\"Monte Carlo time\")\n",
    "plt.ylabel(r'$E/n^2$')\n",
    "plt.grid(True)\n",
    "plt.show()"
   ]
  },
  {
   "cell_type": "code",
   "execution_count": 76,
   "id": "ef992d35",
   "metadata": {},
   "outputs": [],
   "source": [
    "# Add a snippet to calculate number of J1 and J2 dimers separately."
   ]
  },
  {
   "cell_type": "code",
   "execution_count": null,
   "id": "f366881e",
   "metadata": {},
   "outputs": [],
   "source": [
    "# Package this into a function."
   ]
  }
 ],
 "metadata": {
  "kernelspec": {
   "display_name": "Python 3 (ipykernel)",
   "language": "python",
   "name": "python3"
  },
  "language_info": {
   "codemirror_mode": {
    "name": "ipython",
    "version": 3
   },
   "file_extension": ".py",
   "mimetype": "text/x-python",
   "name": "python",
   "nbconvert_exporter": "python",
   "pygments_lexer": "ipython3",
   "version": "3.9.7"
  }
 },
 "nbformat": 4,
 "nbformat_minor": 5
}

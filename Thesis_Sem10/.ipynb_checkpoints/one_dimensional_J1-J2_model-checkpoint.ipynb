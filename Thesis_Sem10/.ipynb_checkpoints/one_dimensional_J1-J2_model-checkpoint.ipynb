{
 "cells": [
  {
   "cell_type": "code",
   "execution_count": 115,
   "id": "56fc3d12",
   "metadata": {},
   "outputs": [],
   "source": [
    "import numpy as np\n",
    "import matplotlib.pyplot as plt"
   ]
  },
  {
   "cell_type": "code",
   "execution_count": 116,
   "id": "558cfec7",
   "metadata": {},
   "outputs": [],
   "source": [
    "# UNIFORM RANDOM DISTRIBUTION OF POINTS ON UNIT SPHERE.\n",
    "def random_spin():\n",
    "    x = np.random.normal(0, 1, 3)\n",
    "    x = x/np.sqrt(x@x)\n",
    "    \n",
    "    return x\n",
    "\n",
    "# RETURN THE VALUE OF SPIN MAGNITUDE.\n",
    "def spin(j):\n",
    "    s = spin_config[j]\n",
    "    if (len(s) == 3):\n",
    "        spin_val = 1\n",
    "    elif (len(s) == 1):\n",
    "        spin_val = 0\n",
    "        \n",
    "    return spin_val\n",
    "\n",
    "# INITIALIZE ENERGY OF THE SYSTEM.\n",
    "def initialize_energy():\n",
    "    Energy = 0\n",
    "    for i in range(n):\n",
    "        Energy += J1*(spin_config[i]@spin_config[(i+1)%n])\n",
    "        Energy += J2*(spin_config[i]@spin_config[(i+2)%n])\n",
    "        \n",
    "    return Energy"
   ]
  },
  {
   "cell_type": "code",
   "execution_count": 125,
   "id": "4628bafe",
   "metadata": {},
   "outputs": [],
   "source": [
    "# DEFINE THE LATTICE.\n",
    "n = 50\n",
    "beta = 1\n",
    "J1 = 1\n",
    "J2 = 0\n",
    "\n",
    "global spin_config\n",
    "spin_config = np.zeros((n), dtype=np.ndarray)\n",
    "\n",
    "for i in range(n):\n",
    "        spin_config[i] = random_spin()    \n",
    "    \n",
    "global E \n",
    "E = initialize_energy()\n",
    "\n",
    "# print(spin_config, E)"
   ]
  },
  {
   "cell_type": "code",
   "execution_count": 126,
   "id": "9f290d01",
   "metadata": {},
   "outputs": [],
   "source": [
    "def dot(v1, v2):\n",
    "    if (len(v1) == 3 and len(v2) == 3):\n",
    "        dot_prod = v1@v2\n",
    "    else:\n",
    "        dot_prod = 0\n",
    "        \n",
    "    return dot_prod\n",
    "\n",
    "def dist(ix, jx):\n",
    "    r = abs(ix - jx)\n",
    "    if (r >= n/2):\n",
    "        distance = n - r\n",
    "    else:\n",
    "        distance = r\n",
    "    \n",
    "    return distance"
   ]
  },
  {
   "cell_type": "code",
   "execution_count": 127,
   "id": "bc6bd54c",
   "metadata": {},
   "outputs": [],
   "source": [
    "def make_dimer(ix):\n",
    "    global E\n",
    "    global spin_config\n",
    "\n",
    "    # jx is the selected neighbour. ix is the original site.\n",
    "\n",
    "    unpaired_list = []\n",
    "    for nbr in [(ix-2), (ix-1), (ix+1), (ix+2)]:\n",
    "        if (spin((nbr)%n) == 1):\n",
    "            unpaired_list.append(nbr)\n",
    "    \n",
    "    if(len(unpaired_list)==0):\n",
    "        return\n",
    "    \n",
    "    else:\n",
    "        jx = np.random.choice(unpaired_list)\n",
    "\n",
    "\n",
    "\n",
    "        if (dist(ix, jx) == 1):\n",
    "            J = J1\n",
    "        elif(dist(ix, jx) == 2):\n",
    "            J = J2\n",
    "\n",
    "        jx = jx%n\n",
    "\n",
    "        # Calculate the change in energy if dimer is formed.\n",
    "        E_1 = -(3*J/4)\n",
    "        E_2 = - (J1/4)*(dot(spin_config[ix], spin_config[(ix - 1)%n]) + dot(spin_config[ix], spin_config[(ix + 1)%n]) + dot(spin_config[jx], spin_config[(jx - 1)%n]) + dot(spin_config[jx], spin_config[(jx + 1)%n]))\n",
    "        E_3 = - (J2/4)*(dot(spin_config[ix], spin_config[(ix - 2)%n]) + dot(spin_config[ix], spin_config[(ix + 2)%n]) + dot(spin_config[jx], spin_config[(jx - 2)%n]) + dot(spin_config[jx], spin_config[(jx + 2)%n]))\n",
    "        E_4 = (J/4)*(dot(spin_config[ix], spin_config[jx]))\n",
    "\n",
    "        dE = E_1 + E_2 + E_3 + E_4\n",
    "\n",
    "        # Metropolis implementation.\n",
    "\n",
    "        p_accept = min(1, np.exp(-beta*dE))\n",
    "        if (np.random.random() <= p_accept):\n",
    "            spin_config[ix] = [jx]\n",
    "            spin_config[jx] = [ix]\n",
    "            E += dE"
   ]
  },
  {
   "cell_type": "code",
   "execution_count": 128,
   "id": "66067a03",
   "metadata": {},
   "outputs": [],
   "source": [
    "def spin_rotation(ix):\n",
    "    global E\n",
    "    global spin_config\n",
    "\n",
    "    spin_new = random_spin()\n",
    "    dS = spin_new - spin_config[ix]\n",
    "    \n",
    "    # Calculating change in E.\n",
    "    dE = J1*(dot(dS, spin_config[(ix - 1)%n]) + dot(dS, spin_config[(ix + 1)%n])) + J2*(dot(dS, spin_config[(ix - 2)%n]) + dot(dS, spin_config[(ix + 2)%n]))\n",
    "    \n",
    "    # Metropolis implementation.\n",
    "    \n",
    "    p_accept = min(1, np.exp(-beta*dE))\n",
    "    if (np.random.random() <= p_accept):\n",
    "        spin_config[ix] = spin_new\n",
    "        E += dE"
   ]
  },
  {
   "cell_type": "code",
   "execution_count": 129,
   "id": "6869e31a",
   "metadata": {},
   "outputs": [],
   "source": [
    "def break_dimer(ix):\n",
    "    global E\n",
    "    global spin_config\n",
    "\n",
    "    jx = spin_config[ix][0]\n",
    "    \n",
    "    if (dist(ix, jx) == 1):\n",
    "        J = J1\n",
    "    elif(dist(ix, jx) == 2):\n",
    "        J = J2\n",
    "     \n",
    "    spin_config_new = np.copy(spin_config)\n",
    "\n",
    "    # Modifying a copy of the spin configutation.\n",
    "    \n",
    "    spin_config_new[ix] = random_spin()\n",
    "    spin_config_new[jx] = random_spin()\n",
    "    \n",
    "    E_1 = +(3*J)/4\n",
    "    E_2 = + (J1/4)*(dot(spin_config_new[ix], spin_config_new[(ix - 1)%n]) + dot(spin_config_new[ix], spin_config_new[(ix + 1)%n]) + dot(spin_config_new[jx], spin_config_new[(jx - 1)%n]) + dot(spin_config_new[jx], spin_config_new[(jx + 1)%n]))\n",
    "    E_3 = + (J2/4)*(dot(spin_config_new[ix], spin_config_new[(ix - 2)%n]) + dot(spin_config_new[ix], spin_config_new[(ix + 2)%n]) + dot(spin_config_new[jx], spin_config_new[(jx - 2)%n]) + dot(spin_config_new[jx], spin_config_new[(jx + 2)%n]))\n",
    "    E_4 = -(J/4)*(dot(spin_config_new[ix], spin_config_new[jx]))\n",
    "    \n",
    "    dE = E_1 + E_2 + E_3 + E_4\n",
    "    \n",
    "    # Metropolis implementation.\n",
    "    \n",
    "    p_accept = min(1, np.exp(-beta*dE))\n",
    "    if (np.random.random() <= p_accept):\n",
    "        spin_config[ix] = spin_config_new[ix]\n",
    "        spin_config[jx] = spin_config_new[jx]\n",
    "        E += dE"
   ]
  },
  {
   "cell_type": "code",
   "execution_count": null,
   "id": "c6f7232b",
   "metadata": {},
   "outputs": [],
   "source": []
  },
  {
   "cell_type": "code",
   "execution_count": 130,
   "id": "9d44b801",
   "metadata": {},
   "outputs": [],
   "source": [
    "# MONTE CARLO SWEEP (RANDOM)\n",
    "\n",
    "def monte_carlo_sweep(ix):\n",
    "    \n",
    "    # f tunes the ratio of random spin rotations to dimer formation. Increase f to increase dimer formation.\n",
    "    f = 0.8\n",
    "    \n",
    "    # If the chosen site has a free spin.\n",
    "    if (spin(ix) == 1):\n",
    "        if (f <= np.random.random()):\n",
    "            spin_rotation(ix)\n",
    "        else:\n",
    "            make_dimer(ix)\n",
    "            \n",
    "    # If the chosen site is part of a dimer.        \n",
    "    elif (spin(ix) == 0):\n",
    "        break_dimer(ix)\n",
    "        \n",
    "    "
   ]
  },
  {
   "cell_type": "code",
   "execution_count": 131,
   "id": "684c829a",
   "metadata": {},
   "outputs": [
    {
     "data": {
      "text/plain": [
       "array([array([-0.03409283,  0.98027385,  0.19468145]),\n",
       "       array([-0.51138628, -0.44853668,  0.73300676]),\n",
       "       array([ 0.73918413, -0.56709644, -0.36332969]),\n",
       "       array([-0.94215871, -0.24522061,  0.22848155]),\n",
       "       array([0.24339156, 0.52455474, 0.81584488]),\n",
       "       array([ 0.64933893, -0.24531106,  0.71984821]),\n",
       "       array([-0.39849446,  0.91050331,  0.1103897 ]),\n",
       "       array([-0.83171076,  0.51365653,  0.21074673]),\n",
       "       array([-0.81757011,  0.51085855,  0.26571161]),\n",
       "       array([-0.52937199,  0.51488686, -0.67428244]),\n",
       "       array([ 0.08392732, -0.34156234,  0.93610436]),\n",
       "       array([-0.0181645 ,  0.93487779,  0.35450468]),\n",
       "       array([0.63053435, 0.40661396, 0.66112897]),\n",
       "       array([-0.23132911, -0.51574305,  0.82492179]),\n",
       "       array([ 9.65764213e-01, -2.59420101e-01, -8.34080945e-04]),\n",
       "       array([ 0.061162  , -0.6334772 , -0.77134029]),\n",
       "       array([-0.47071871,  0.47154896,  0.74569798]),\n",
       "       array([-0.1851128 , -0.19172642, -0.96383309]),\n",
       "       array([ 0.54002924, -0.35030515,  0.76528082]),\n",
       "       array([-0.89482914, -0.40106416, -0.19603148]),\n",
       "       array([-0.73490506,  0.50024548,  0.45789629]),\n",
       "       array([ 0.47931172, -0.6260497 ,  0.6150789 ]),\n",
       "       array([-0.6516254 , -0.71294336, -0.25902915]),\n",
       "       array([ 0.85854872, -0.49666628,  0.12734482]),\n",
       "       array([ 0.05988003,  0.89832991, -0.4352215 ]),\n",
       "       array([ 0.51151453, -0.63820222,  0.57537015]),\n",
       "       array([ 0.1725126 , -0.48305237, -0.85842869]),\n",
       "       array([ 0.73726578, -0.66827096,  0.09926276]),\n",
       "       array([-0.22038556,  0.78765919, -0.57534616]),\n",
       "       array([ 0.55134387,  0.70864928, -0.44026826]),\n",
       "       array([0.227663  , 0.58571269, 0.77788829]),\n",
       "       array([-0.99721563,  0.06814761, -0.03028009]),\n",
       "       array([-0.40624974, -0.10971689, -0.90715123]),\n",
       "       array([0.63835125, 0.12537052, 0.75946687]),\n",
       "       array([0.80555243, 0.46349808, 0.3691271 ]),\n",
       "       array([-0.76895577,  0.59370102, -0.23712048]),\n",
       "       array([-0.99142306, -0.12936272, -0.01859062]),\n",
       "       array([0.31702367, 0.77791279, 0.54253818]),\n",
       "       array([0.85507738, 0.40069203, 0.32907228]),\n",
       "       array([-0.39389916, -0.87670483, -0.27610161]),\n",
       "       array([-0.1566715 , -0.9875907 , -0.01089256]),\n",
       "       array([0.17342142, 0.95082181, 0.25663769]),\n",
       "       array([-0.05148254, -0.99469657, -0.08904091]),\n",
       "       array([ 0.67774916,  0.67085828, -0.30100706]),\n",
       "       array([-0.42799248, -0.27661423, -0.86041095]),\n",
       "       array([-0.27601249,  0.25785744,  0.92591935]),\n",
       "       array([-0.20183834,  0.86764655,  0.45436852]),\n",
       "       array([-0.10330258,  0.96533144, -0.23971607]),\n",
       "       array([-0.54430716,  0.80746692,  0.22743548]),\n",
       "       array([ 0.39125922, -0.8794442 , -0.271098  ])], dtype=object)"
      ]
     },
     "execution_count": 131,
     "metadata": {},
     "output_type": "execute_result"
    }
   ],
   "source": [
    "spin_config"
   ]
  },
  {
   "cell_type": "code",
   "execution_count": 132,
   "id": "9ac073b1",
   "metadata": {},
   "outputs": [
    {
     "name": "stdout",
     "output_type": "stream",
     "text": [
      "[list([49]) array([-0.14753855, -0.56562641,  0.81135636])\n",
      " array([ 0.66043609, -0.05989732, -0.74848947]) list([4]) list([3])\n",
      " list([6]) list([5]) list([8]) list([7]) list([10]) list([9]) list([12])\n",
      " list([11]) list([14]) list([13])\n",
      " array([ 0.98053797,  0.14795165, -0.12905653])\n",
      " array([0.16258547, 0.97071349, 0.17686515])\n",
      " array([-0.78943651,  0.61274722,  0.03648082]) list([19]) list([18])\n",
      " list([21]) list([20]) list([23]) list([22]) list([25]) list([24])\n",
      " list([27]) list([26]) list([29]) list([28]) list([31]) list([30])\n",
      " list([33]) list([32]) array([-0.8422014 , -0.19586465, -0.50232843])\n",
      " list([36]) list([35]) list([38]) list([37]) list([40]) list([39])\n",
      " list([42]) list([41]) list([44]) list([43]) list([46]) list([45])\n",
      " list([48]) list([47]) list([0])]\n",
      "44\n"
     ]
    }
   ],
   "source": [
    "nsweeps = 100000\n",
    "\n",
    "for i in range(nsweeps):\n",
    "    ix = int(np.random.random()*n)\n",
    "    monte_carlo_sweep(ix)\n",
    "\n",
    "count_dimer = 0\n",
    "for i in range(n):\n",
    "    if (len(spin_config[i]) == 1):\n",
    "        count_dimer +=1\n",
    "        \n",
    "print(spin_config)\n",
    "print(count_dimer)"
   ]
  },
  {
   "cell_type": "code",
   "execution_count": 135,
   "id": "3ae000ff",
   "metadata": {},
   "outputs": [
    {
     "data": {
      "text/plain": [
       "-1.3183546880897965"
      ]
     },
     "execution_count": 135,
     "metadata": {},
     "output_type": "execute_result"
    }
   ],
   "source": [
    "E/n"
   ]
  },
  {
   "cell_type": "code",
   "execution_count": 138,
   "id": "74004ece",
   "metadata": {},
   "outputs": [
    {
     "data": {
      "image/png": "[encoded data removed]",
      "text/plain": [
       "<Figure size 432x288 with 1 Axes>"
      ]
     },
     "metadata": {
      "needs_background": "light"
     },
     "output_type": "display_data"
    }
   ],
   "source": [
    "spin_state = np.zeros((n))\n",
    "\n",
    "for i in range(n):\n",
    "    if (len(spin_config[i]) == 3):\n",
    "        spin_state[i] = 1\n",
    "\n",
    "spin_state\n",
    "plt.imshow(np.array([np.array(spin_state)]) , cmap = 'plasma' , interpolation = 'nearest' )\n",
    "plt.show()"
   ]
  },
  {
   "cell_type": "code",
   "execution_count": null,
   "id": "622fdf9f",
   "metadata": {},
   "outputs": [],
   "source": []
  },
  {
   "cell_type": "code",
   "execution_count": 19,
   "id": "2d809e4b",
   "metadata": {},
   "outputs": [
    {
     "ename": "UnboundLocalError",
     "evalue": "local variable 'E' referenced before assignment",
     "output_type": "error",
     "traceback": [
      "\u001b[1;31m---------------------------------------------------------------------------\u001b[0m",
      "\u001b[1;31mUnboundLocalError\u001b[0m                         Traceback (most recent call last)",
      "\u001b[1;32m~\\AppData\\Local\\Temp/ipykernel_7580/3482099260.py\u001b[0m in \u001b[0;36m<module>\u001b[1;34m\u001b[0m\n\u001b[0;32m     14\u001b[0m \u001b[1;31m# print(spin_config, E)\u001b[0m\u001b[1;33m\u001b[0m\u001b[1;33m\u001b[0m\u001b[0m\n\u001b[0;32m     15\u001b[0m \u001b[1;32mfor\u001b[0m \u001b[0mi\u001b[0m \u001b[1;32min\u001b[0m \u001b[0mrange\u001b[0m\u001b[1;33m(\u001b[0m\u001b[1;36m100\u001b[0m\u001b[1;33m)\u001b[0m\u001b[1;33m:\u001b[0m\u001b[1;33m\u001b[0m\u001b[1;33m\u001b[0m\u001b[0m\n\u001b[1;32m---> 16\u001b[1;33m     \u001b[0mmonte_carlo_sweep\u001b[0m\u001b[1;33m(\u001b[0m\u001b[1;36m2\u001b[0m\u001b[1;33m)\u001b[0m\u001b[1;33m\u001b[0m\u001b[1;33m\u001b[0m\u001b[0m\n\u001b[0m",
      "\u001b[1;32m~\\AppData\\Local\\Temp/ipykernel_7580/2959552717.py\u001b[0m in \u001b[0;36mmonte_carlo_sweep\u001b[1;34m(ix)\u001b[0m\n\u001b[0;32m     11\u001b[0m             \u001b[0mspin_rotation\u001b[0m\u001b[1;33m(\u001b[0m\u001b[0mix\u001b[0m\u001b[1;33m)\u001b[0m\u001b[1;33m\u001b[0m\u001b[1;33m\u001b[0m\u001b[0m\n\u001b[0;32m     12\u001b[0m         \u001b[1;32melse\u001b[0m\u001b[1;33m:\u001b[0m\u001b[1;33m\u001b[0m\u001b[1;33m\u001b[0m\u001b[0m\n\u001b[1;32m---> 13\u001b[1;33m             \u001b[0mmake_dimer\u001b[0m\u001b[1;33m(\u001b[0m\u001b[0mix\u001b[0m\u001b[1;33m)\u001b[0m\u001b[1;33m\u001b[0m\u001b[1;33m\u001b[0m\u001b[0m\n\u001b[0m\u001b[0;32m     14\u001b[0m \u001b[1;33m\u001b[0m\u001b[0m\n\u001b[0;32m     15\u001b[0m     \u001b[1;31m# If the chosen site is part of a dimer.\u001b[0m\u001b[1;33m\u001b[0m\u001b[1;33m\u001b[0m\u001b[0m\n",
      "\u001b[1;32m~\\AppData\\Local\\Temp/ipykernel_7580/3866867076.py\u001b[0m in \u001b[0;36mmake_dimer\u001b[1;34m(ix)\u001b[0m\n\u001b[0;32m     29\u001b[0m         \u001b[0mspin_config\u001b[0m\u001b[1;33m[\u001b[0m\u001b[0mix\u001b[0m\u001b[1;33m]\u001b[0m \u001b[1;33m=\u001b[0m \u001b[1;33m[\u001b[0m\u001b[0mjx\u001b[0m\u001b[1;33m]\u001b[0m\u001b[1;33m\u001b[0m\u001b[1;33m\u001b[0m\u001b[0m\n\u001b[0;32m     30\u001b[0m         \u001b[0mspin_config\u001b[0m\u001b[1;33m[\u001b[0m\u001b[0mjx\u001b[0m\u001b[1;33m]\u001b[0m \u001b[1;33m=\u001b[0m \u001b[1;33m[\u001b[0m\u001b[0mix\u001b[0m\u001b[1;33m]\u001b[0m\u001b[1;33m\u001b[0m\u001b[1;33m\u001b[0m\u001b[0m\n\u001b[1;32m---> 31\u001b[1;33m         \u001b[0mE\u001b[0m \u001b[1;33m+=\u001b[0m \u001b[0mdE\u001b[0m\u001b[1;33m\u001b[0m\u001b[1;33m\u001b[0m\u001b[0m\n\u001b[0m",
      "\u001b[1;31mUnboundLocalError\u001b[0m: local variable 'E' referenced before assignment"
     ]
    }
   ],
   "source": [
    "# DEFINE THE LATTICE.\n",
    "n = 10\n",
    "beta = 2\n",
    "J1 = 1.5\n",
    "J2 = 1\n",
    "\n",
    "spin_config = np.zeros((n), dtype=np.ndarray)\n",
    "\n",
    "for i in range(n):\n",
    "        spin_config[i] = random_spin()    \n",
    "    \n",
    "E = initialize_energy()\n",
    "\n",
    "# print(spin_config, E)\n",
    "for i in range(100):\n",
    "    monte_carlo_sweep(2)"
   ]
  },
  {
   "cell_type": "code",
   "execution_count": 1,
   "id": "1c1aec44",
   "metadata": {},
   "outputs": [
    {
     "name": "stdout",
     "output_type": "stream",
     "text": [
      "<IPython.core.autocall.ZMQExitAutocall object at 0x0000021B6BEE46D0>\n",
      "Hello\n"
     ]
    }
   ],
   "source": [
    "number = 7\n",
    "    \n",
    "if number < 8:  \n",
    "    # exits the program\n",
    "    print(exit)\n",
    "    exit()    \n",
    "else:\n",
    "    print(\"number is not less than 8\")\n",
    "    \n",
    "print(\"Hello\")"
   ]
  },
  {
   "cell_type": "code",
   "execution_count": null,
   "id": "66e240da",
   "metadata": {},
   "outputs": [],
   "source": []
  },
  {
   "cell_type": "code",
   "execution_count": null,
   "id": "82fc93cc",
   "metadata": {},
   "outputs": [],
   "source": []
  }
 ],
 "metadata": {
  "kernelspec": {
   "display_name": "Python 3 (ipykernel)",
   "language": "python",
   "name": "python3"
  },
  "language_info": {
   "codemirror_mode": {
    "name": "ipython",
    "version": 3
   },
   "file_extension": ".py",
   "mimetype": "text/x-python",
   "name": "python",
   "nbconvert_exporter": "python",
   "pygments_lexer": "ipython3",
   "version": "3.9.7"
  }
 },
 "nbformat": 4,
 "nbformat_minor": 5
}
